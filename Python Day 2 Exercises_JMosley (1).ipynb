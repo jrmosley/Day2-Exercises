{
 "cells": [
  {
   "cell_type": "markdown",
   "metadata": {},
   "source": [
    "Ask for a color and store that answer\n",
    "If the answer is grey then print out you found Victor's favorite color.\n",
    "Otherwise print out the color is not Victor's favorite color."
   ]
  },
  {
   "cell_type": "code",
   "execution_count": 15,
   "metadata": {},
   "outputs": [
    {
     "name": "stdout",
     "output_type": "stream",
     "text": [
      "Enter the color:  grey\n",
      "You found Victor's favorite color!\n"
     ]
    }
   ],
   "source": [
    "color = input (\"Enter the color:  \")\n",
    "favorite_color = \"grey\" \n",
    "\n",
    "if color == favorite_color:\n",
    "    print (\"You found Victor's favorite color!\")\n",
    "else:\n",
    "    print(\"The color in not Victor's favorite color\")"
   ]
  },
  {
   "cell_type": "markdown",
   "metadata": {},
   "source": [
    "Now with the code before add in more conditions for other colors such as red, green, blue and write statements for them. "
   ]
  },
  {
   "cell_type": "code",
   "execution_count": 18,
   "metadata": {},
   "outputs": [
    {
     "name": "stdout",
     "output_type": "stream",
     "text": [
      "Enter the color:  grey\n",
      "You found Victor's favorite color!\n"
     ]
    }
   ],
   "source": [
    "color = input (\"Enter the color:  \")\n",
    "favorite_color = \"grey\" \n",
    "color1 = \"red\"\n",
    "color2 = \"green\"\n",
    "\n",
    "if color == favorite_color:\n",
    "    print (\"You found Victor's favorite color!\")\n",
    "elif color == color1:\n",
    "    print (\"Red is not the color\")\n",
    "elif color == color2:\n",
    "    print (\"Green is not the color\")\n",
    "else:\n",
    "    print(\"The color in not Victor's favorite color\")"
   ]
  },
  {
   "cell_type": "markdown",
   "metadata": {},
   "source": [
    "Ask for an exam score and store that number\n",
    "If the number is greater than 100\n",
    "print out you cannot have an exam score higher than 100.\n",
    "if the number doesn't exceeed 100 but is greater than 75\n",
    "print out you did great on your exam!\n",
    "otherwise if they scored lower than 75\n",
    "print out that they need to study harder."
   ]
  },
  {
   "cell_type": "code",
   "execution_count": 23,
   "metadata": {},
   "outputs": [
    {
     "name": "stdout",
     "output_type": "stream",
     "text": [
      "Enter exam score:   80\n",
      "You did great on your exam.\n"
     ]
    }
   ],
   "source": [
    "exam_score = input (\"Enter exam score:   \")\n",
    "exam_score = int(exam_score)\n",
    "\n",
    "if exam_score > 100:\n",
    "    print (\"Incorrect score entered.  You cannot have an exam score greater than 100.\")\n",
    "elif exam_score > 75:\n",
    "    print (\"You did great on your exam.\")\n",
    "else:\n",
    "    print (\"You need to study harder.\")"
   ]
  },
  {
   "cell_type": "markdown",
   "metadata": {},
   "source": [
    "Define a function that takes in 3 numbers and adds them together\n",
    "Define a function that takes in 2 numbers and multiplies them\n",
    "Tell the user to choose option 1 to add three numbers or to choose option 2 to mutiply two numbers.\n",
    "If they choose 1 then use the first function otherwise if they choose 2 then use the second function. "
   ]
  },
  {
   "cell_type": "code",
   "execution_count": 97,
   "metadata": {},
   "outputs": [
    {
     "name": "stdout",
     "output_type": "stream",
     "text": [
      "Enter either 1 or 2:  4\n",
      "Incorrect answer!\n"
     ]
    }
   ],
   "source": [
    "def func1 (a,b,c):\n",
    "    return a+b+c\n",
    "\n",
    "def func2 (x,y):\n",
    "    return x*y\n",
    "\n",
    "\n",
    "answer = input (\"Enter either 1 or 2:  \")\n",
    "answer = int(answer)\n",
    "\n",
    "if answer == 1:\n",
    "    first = 1\n",
    "    second =2\n",
    "    third = 4\n",
    "    answer3 = func1(first, second, third)\n",
    "    print(answer3)\n",
    "elif answer == 2:\n",
    "    yw = 3\n",
    "    d = 4\n",
    "    answer4 = func2(yw,d)\n",
    "    print(answer4)\n",
    "else:\n",
    "    print (\"Incorrect answer!\")\n",
    "\n",
    "           "
   ]
  },
  {
   "cell_type": "markdown",
   "metadata": {},
   "source": [
    "Make a loop go from 50 to 100 and print every iteration"
   ]
  },
  {
   "cell_type": "code",
   "execution_count": 43,
   "metadata": {},
   "outputs": [
    {
     "name": "stdout",
     "output_type": "stream",
     "text": [
      "51\n",
      "52\n",
      "53\n",
      "54\n",
      "55\n",
      "56\n",
      "57\n",
      "58\n",
      "59\n",
      "60\n",
      "61\n",
      "62\n",
      "63\n",
      "64\n",
      "65\n",
      "66\n",
      "67\n",
      "68\n",
      "69\n",
      "70\n",
      "71\n",
      "72\n",
      "73\n",
      "74\n",
      "75\n",
      "76\n",
      "77\n",
      "78\n",
      "79\n",
      "80\n",
      "81\n",
      "82\n",
      "83\n",
      "84\n",
      "85\n",
      "86\n",
      "87\n",
      "88\n",
      "89\n",
      "90\n",
      "91\n",
      "92\n",
      "93\n",
      "94\n",
      "95\n",
      "96\n",
      "97\n",
      "98\n",
      "99\n",
      "100\n",
      "You made it\n"
     ]
    }
   ],
   "source": [
    "s = 50\n",
    "s = int(s)\n",
    "while s < 100:\n",
    "    s = s+1\n",
    "    print (s)\n",
    "print (\"You made it\")"
   ]
  },
  {
   "cell_type": "markdown",
   "metadata": {},
   "source": [
    "Make an empty list and call it names"
   ]
  },
  {
   "cell_type": "code",
   "execution_count": 146,
   "metadata": {},
   "outputs": [],
   "source": [
    "names = []"
   ]
  },
  {
   "cell_type": "markdown",
   "metadata": {},
   "source": [
    "Make names filled with names of 5 people (Hannah, Victor, Sam, James, John)"
   ]
  },
  {
   "cell_type": "code",
   "execution_count": 147,
   "metadata": {},
   "outputs": [
    {
     "name": "stdout",
     "output_type": "stream",
     "text": [
      "['Hannah', 'Victor', 'Sam', 'James', 'John']\n"
     ]
    }
   ],
   "source": [
    "names.append (  \"Hannah\" )\n",
    "names.append (  \"Victor\" )\n",
    "names.append (   \"Sam\"  )\n",
    "names.append (  \"James\" )\n",
    "names.append (   \"John\"  )\n",
    "\n",
    "print (names)"
   ]
  },
  {
   "cell_type": "markdown",
   "metadata": {},
   "source": [
    "Make names sorted in reverse. Print out the list using a for-enchanced loop"
   ]
  },
  {
   "cell_type": "code",
   "execution_count": 151,
   "metadata": {},
   "outputs": [
    {
     "name": "stdout",
     "output_type": "stream",
     "text": [
      "['Victor', 'Sam', 'John', 'James', 'Hannah']\n"
     ]
    }
   ],
   "source": [
    "\n",
    "for people in names:\n",
    "    names.sort(reverse = True)\n",
    "    \n",
    "print (names)\n",
    "\n",
    "    \n",
    "\n",
    "    \n",
    "\n"
   ]
  },
  {
   "cell_type": "markdown",
   "metadata": {},
   "source": [
    "Make names sorted alphabetically. Print out the list using regular for loop"
   ]
  },
  {
   "cell_type": "code",
   "execution_count": null,
   "metadata": {},
   "outputs": [],
   "source": [
    "names.append (  \"Hannah\" )\n",
    "names.append (  \"Victor\" )\n",
    "names.append (   \"Sam\"  )\n",
    "names.append (  \" James\" )\n",
    "names.append (   \"John\"  )\n",
    "\n",
    "print (names[0])"
   ]
  },
  {
   "cell_type": "markdown",
   "metadata": {},
   "source": [
    "Pull out the fourth item from names and print it out"
   ]
  },
  {
   "cell_type": "code",
   "execution_count": 87,
   "metadata": {},
   "outputs": [
    {
     "name": "stdout",
     "output_type": "stream",
     "text": [
      " James\n"
     ]
    }
   ],
   "source": [
    "names.append (  \"Hannah\" )\n",
    "names.append (  \"Victor\" )\n",
    "names.append (   \"Sam\"  )\n",
    "names.append (  \" James\" )\n",
    "names.append (   \"John\"  )\n",
    "\n",
    "print (names[3])"
   ]
  },
  {
   "cell_type": "markdown",
   "metadata": {},
   "source": [
    "Pull out the first item from names and print it out"
   ]
  },
  {
   "cell_type": "code",
   "execution_count": 88,
   "metadata": {},
   "outputs": [
    {
     "name": "stdout",
     "output_type": "stream",
     "text": [
      "Hannah\n"
     ]
    }
   ],
   "source": [
    "names.append (  \"Hannah\" )\n",
    "names.append (  \"Victor\" )\n",
    "names.append (   \"Sam\"  )\n",
    "names.append (  \" James\" )\n",
    "names.append (   \"John\"  )\n",
    "\n",
    "print (names[0])"
   ]
  },
  {
   "cell_type": "markdown",
   "metadata": {},
   "source": [
    "Make an empty list called words and add each word into the list using the append function. The words are (Hello, Python,Class, Friends, Online, Jupyter).\n",
    "Print out the list using a for-enchanced loop"
   ]
  },
  {
   "cell_type": "code",
   "execution_count": 105,
   "metadata": {},
   "outputs": [
    {
     "name": "stdout",
     "output_type": "stream",
     "text": [
      "Hello\n",
      "Python\n",
      "Class\n",
      "Friends\n",
      "Online\n"
     ]
    }
   ],
   "source": [
    "words = []\n",
    "\n",
    "words.append (\"Hello\")\n",
    "words.append (\"Python\")\n",
    "words.append  (\"Class\")\n",
    "words.append (\"Friends\")\n",
    "words.append (\"Online\")\n",
    "\n",
    "for i in words:\n",
    "    print(i) \n",
    "\n"
   ]
  },
  {
   "cell_type": "markdown",
   "metadata": {},
   "source": [
    "Make words lose it's last word and print out the new list."
   ]
  },
  {
   "cell_type": "code",
   "execution_count": 106,
   "metadata": {},
   "outputs": [
    {
     "data": {
      "text/plain": [
       "['Hello', 'Python', 'Class', 'Friends']"
      ]
     },
     "execution_count": 106,
     "metadata": {},
     "output_type": "execute_result"
    }
   ],
   "source": [
    "remove = words.pop()\n",
    "\n",
    "words"
   ]
  },
  {
   "cell_type": "markdown",
   "metadata": {},
   "source": [
    "Make a variable named fruits that contains a string \"Apples Oranges Bananas Pineapples Persimmons Dragonfruit\" and make it into a list splitting it by the spaces."
   ]
  },
  {
   "cell_type": "code",
   "execution_count": 108,
   "metadata": {},
   "outputs": [
    {
     "data": {
      "text/plain": [
       "['Apples', 'Oranges', 'Bananas', 'Pineapples', 'Persimmons', 'Dragonfruit']"
      ]
     },
     "execution_count": 108,
     "metadata": {},
     "output_type": "execute_result"
    }
   ],
   "source": [
    "fruits = \"Apples Oranges Bananas Pineapples Persimmons Dragonfruit\"\n",
    "\n",
    "stuff = fruits.split(' ')\n",
    "\n",
    "stuff\n",
    "\n"
   ]
  },
  {
   "cell_type": "markdown",
   "metadata": {},
   "source": [
    "Make a variable named fruits that contains a string \"Apples,Oranges,Bananas,Pineapples,Persimmons,Dragonfruit\" and make it into a list splitting it by the commas."
   ]
  },
  {
   "cell_type": "code",
   "execution_count": 119,
   "metadata": {},
   "outputs": [
    {
     "data": {
      "text/plain": [
       "['Apples', 'Oranges', 'Bananas', 'Pineapples', 'Persimmons', 'Dragonfruit']"
      ]
     },
     "execution_count": 119,
     "metadata": {},
     "output_type": "execute_result"
    }
   ],
   "source": [
    "fruits = \"Apples,Oranges,Bananas,Pineapples,Persimmons,Dragonfruit\" \n",
    "\n",
    "stuff1 = fruits.split(',')\n",
    "\n",
    "stuff1"
   ]
  },
  {
   "cell_type": "code",
   "execution_count": null,
   "metadata": {},
   "outputs": [],
   "source": []
  }
 ],
 "metadata": {
  "kernelspec": {
   "display_name": "Python 3",
   "language": "python",
   "name": "python3"
  },
  "language_info": {
   "codemirror_mode": {
    "name": "ipython",
    "version": 3
   },
   "file_extension": ".py",
   "mimetype": "text/x-python",
   "name": "python",
   "nbconvert_exporter": "python",
   "pygments_lexer": "ipython3",
   "version": "3.7.6"
  }
 },
 "nbformat": 4,
 "nbformat_minor": 4
}
